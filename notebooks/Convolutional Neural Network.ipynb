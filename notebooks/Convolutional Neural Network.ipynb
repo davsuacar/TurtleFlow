{
 "cells": [
  {
   "cell_type": "code",
   "execution_count": 1,
   "metadata": {
    "collapsed": false
   },
   "outputs": [],
   "source": [
    "from __future__ import division\n",
    "\n",
    "import cv2\n",
    "import sys\n",
    "import os\n",
    "import dlib\n",
    "import glob\n",
    "import csv\n",
    "from skimage import io\n",
    "import numpy as np\n",
    "import matplotlib.pyplot as plt\n",
    "import tensorflow as tf\n",
    "import pandas as pd\n",
    "from sklearn.utils import shuffle \n",
    "%matplotlib inline"
   ]
  },
  {
   "cell_type": "code",
   "execution_count": 2,
   "metadata": {
    "collapsed": true
   },
   "outputs": [],
   "source": [
    "images = []\n",
    "labels = []\n",
    "resize_x = 80\n",
    "resize_y = 80"
   ]
  },
  {
   "cell_type": "code",
   "execution_count": 3,
   "metadata": {
    "collapsed": true
   },
   "outputs": [],
   "source": [
    "def conv2d(x, W):\n",
    "    return tf.nn.conv2d(\n",
    "        x, W, strides=[1, 1, 1, 1], padding='SAME')\n",
    "\n",
    "def max_pool_2x2(x):\n",
    "    return tf.nn.max_pool(\n",
    "        x, ksize=[1, 2, 2, 1], strides=[1, 2, 2, 1], padding='SAME')"
   ]
  },
  {
   "cell_type": "code",
   "execution_count": 4,
   "metadata": {
    "collapsed": false
   },
   "outputs": [],
   "source": [
    "with open('../data/convolutional/data.csv', 'rb') as mycsvfile:\n",
    "    thedata = csv.reader(mycsvfile, delimiter=':')\n",
    "    thedata.next()\n",
    "    for row in thedata:\n",
    "        image = np.fromstring(row[0].replace(\"[\", \"\").replace(\"]\", \"\"), dtype=int, sep=\" \")\n",
    "        label = row[1]\n",
    "        images.append(image)\n",
    "        labels.append(label)\n",
    "        # tmp_img = np.fliplr(np.array(image).reshape(80,80,3))\n",
    "        # images.append(tmp_img.reshape(-1))\n",
    "        # labels.append(label)"
   ]
  },
  {
   "cell_type": "code",
   "execution_count": 5,
   "metadata": {
    "collapsed": false
   },
   "outputs": [],
   "source": [
    "labels = np.array(labels)"
   ]
  },
  {
   "cell_type": "code",
   "execution_count": 6,
   "metadata": {
    "collapsed": false
   },
   "outputs": [],
   "source": [
    "df_labels = pd.get_dummies(labels)\n",
    "labels = np.array(df_labels)"
   ]
  },
  {
   "cell_type": "code",
   "execution_count": 7,
   "metadata": {
    "collapsed": false
   },
   "outputs": [],
   "source": [
    "images = np.array(images) / 255"
   ]
  },
  {
   "cell_type": "code",
   "execution_count": 8,
   "metadata": {
    "collapsed": false
   },
   "outputs": [
    {
     "data": {
      "text/plain": [
       "(2484, 19200)"
      ]
     },
     "execution_count": 8,
     "metadata": {},
     "output_type": "execute_result"
    }
   ],
   "source": [
    "images.shape"
   ]
  },
  {
   "cell_type": "code",
   "execution_count": 9,
   "metadata": {
    "collapsed": false
   },
   "outputs": [],
   "source": [
    "images, labels = shuffle(images, labels, random_state=43)"
   ]
  },
  {
   "cell_type": "code",
   "execution_count": 10,
   "metadata": {
    "collapsed": true
   },
   "outputs": [],
   "source": [
    "X_train = images[:1000]\n",
    "Y_train = labels.reshape(len(labels), -1)[:1000]\n",
    "\n",
    "X_test = images[1000:]\n",
    "Y_test = labels.reshape(len(labels), -1)[1000:]"
   ]
  },
  {
   "cell_type": "code",
   "execution_count": 11,
   "metadata": {
    "collapsed": true
   },
   "outputs": [],
   "source": [
    "# Input and output variables\n",
    "\n",
    "INPUTS = resize_x * resize_y * 3\n",
    "OUTPUTS = 2\n",
    "BATCH_SIZE = 30\n",
    "NUM_EPOCHS = 50\n",
    "LEARNING_RATE = 1e-04"
   ]
  },
  {
   "cell_type": "code",
   "execution_count": 12,
   "metadata": {
    "collapsed": true
   },
   "outputs": [],
   "source": [
    "try:\n",
    "    sess.close()\n",
    "except:\n",
    "    pass\n",
    "\n",
    "sess = tf.InteractiveSession()"
   ]
  },
  {
   "cell_type": "code",
   "execution_count": 13,
   "metadata": {
    "collapsed": false
   },
   "outputs": [],
   "source": [
    "# Input and output placeholder\n",
    "x = tf.placeholder(tf.float32, [None, INPUTS])\n",
    "y = tf.placeholder(tf.float32, [None, OUTPUTS])\n",
    "pkeep = tf.placeholder(tf.float32)\n",
    "\n",
    "# First Convolutional Layer\n",
    "x_image = tf.reshape(x, [-1, resize_x, resize_y, 3])\n",
    "W_conv_1 = tf.Variable(tf.truncated_normal([2, 2, 3, 8], stddev=0.1))\n",
    "b_conv_1 = tf.Variable(tf.constant(0.0, shape=[8]))\n",
    "h_conv_1 = tf.nn.relu(conv2d(x_image, W_conv_1) + b_conv_1)\n",
    "h_pool_1 = max_pool_2x2(h_conv_1)\n",
    "\n",
    "# Second Convolutional Layer\n",
    "W_conv_2 = tf.Variable(tf.truncated_normal([2, 2, 8, 16], stddev=0.1))\n",
    "b_conv_2 = tf.Variable(tf.constant(0.0, shape=[16]))\n",
    "h_conv_2 = tf.nn.relu(conv2d(h_pool_1, W_conv_2) + b_conv_2)\n",
    "h_pool_2 = max_pool_2x2(h_conv_2)\n",
    "\n",
    "# Third Convolutional Layer\n",
    "W_conv_3 = tf.Variable(tf.truncated_normal([2, 2, 16, 32], stddev=0.1))\n",
    "b_conv_3 = tf.Variable(tf.constant(0.0, shape=[32]))\n",
    "h_conv_3 = tf.nn.relu(conv2d(h_pool_2, W_conv_3) + b_conv_3)\n",
    "h_pool_3 = max_pool_2x2(h_conv_3)\n",
    "\n",
    "# Fourth Convolutional Layer\n",
    "W_conv_4 = tf.Variable(tf.truncated_normal([2, 2, 32, 64], stddev=0.1))\n",
    "b_conv_4 = tf.Variable(tf.constant(0.0, shape=[64]))\n",
    "h_conv_4 = tf.nn.relu(conv2d(h_pool_3, W_conv_4) + b_conv_4)\n",
    "h_pool_4 = max_pool_2x2(h_conv_4)\n",
    "\n",
    "# Densely connected layer\n",
    "W_fc1 = tf.Variable(tf.truncated_normal([5 * 5 * 64, 128], stddev=0.1))\n",
    "b_fc1 = tf.Variable(tf.constant(0.0, shape=[128]))\n",
    "h_poolfc1_flat = tf.reshape(h_pool_4, [-1, 5 * 5 * 64])\n",
    "h_fc1 = tf.nn.relu(tf.matmul(h_poolfc1_flat, W_fc1) + b_fc1)\n",
    "\n",
    "# Densely connected layer\n",
    "W_fc2 = tf.Variable(tf.truncated_normal([128, 256], stddev=0.1))\n",
    "b_fc2 = tf.Variable(tf.constant(0.0, shape=[256]))\n",
    "h_fc2 = tf.nn.relu(tf.matmul(h_fc1, W_fc2) + b_fc2)\n",
    "\n",
    "# Dropout\n",
    "h_drop = tf.nn.dropout(h_fc2, pkeep)\n",
    "\n",
    "# Read out Layer\n",
    "W_fc3 = tf.Variable(tf.truncated_normal([256, OUTPUTS], stddev=0.1))\n",
    "b_fc3 = tf.Variable(tf.constant(0.0, shape=[OUTPUTS]))\n",
    "y_logits = tf.matmul(h_drop, W_fc3) + b_fc3\n",
    "y_softmax = tf.nn.softmax(y_logits)\n",
    "\n",
    "loss = tf.reduce_mean(tf.nn.softmax_cross_entropy_with_logits(y_logits, y))\n",
    "optimizer = tf.train.AdamOptimizer(LEARNING_RATE)\n",
    "train_step = optimizer.minimize(loss)\n",
    "\n",
    "correct_prediction = tf.equal(tf.argmax(y_softmax, 1), tf.argmax(y, 1))\n",
    "accuracy = tf.reduce_mean(tf.cast(correct_prediction, tf.float32))\n",
    "\n",
    "init = tf.initialize_all_variables()\n",
    "\n",
    "saver = tf.train.Saver()\n",
    "\n",
    "sess.run(init)"
   ]
  },
  {
   "cell_type": "code",
   "execution_count": 14,
   "metadata": {
    "collapsed": false
   },
   "outputs": [
    {
     "name": "stdout",
     "output_type": "stream",
     "text": [
      "Epoch 0000, loss train 0.68392861, train accuracy 0.91900003, test accuracy 0.90566039\n",
      "Epoch 0001, loss train 0.66596138, train accuracy 0.93500000, test accuracy 0.91711593\n",
      "Epoch 0002, loss train 0.63183868, train accuracy 0.93099999, test accuracy 0.91644204\n",
      "Epoch 0003, loss train 0.49003202, train accuracy 0.93099999, test accuracy 0.91981131\n",
      "Epoch 0004, loss train 0.38338673, train accuracy 0.93500000, test accuracy 0.92857140\n",
      "Epoch 0005, loss train 0.19378261, train accuracy 0.94099998, test accuracy 0.93665767\n",
      "Epoch 0006, loss train 0.22750746, train accuracy 0.95099998, test accuracy 0.94811320\n",
      "Epoch 0007, loss train 0.13318144, train accuracy 0.95499998, test accuracy 0.95215631\n",
      "Epoch 0008, loss train 0.10388625, train accuracy 0.95999998, test accuracy 0.95889491\n",
      "Epoch 0009, loss train 0.09179357, train accuracy 0.97500002, test accuracy 0.97237200\n",
      "Epoch 0010, loss train 0.13146988, train accuracy 0.98400003, test accuracy 0.97506738\n",
      "Epoch 0011, loss train 0.05514761, train accuracy 0.97200000, test accuracy 0.97035038\n",
      "Epoch 0012, loss train 0.05343308, train accuracy 0.98900002, test accuracy 0.98450136\n",
      "Epoch 0013, loss train 0.05192006, train accuracy 0.98199999, test accuracy 0.98315364\n",
      "Epoch 0014, loss train 0.04187655, train accuracy 0.99299997, test accuracy 0.98719674\n",
      "Epoch 0015, loss train 0.04671068, train accuracy 0.99299997, test accuracy 0.98652291\n",
      "Epoch 0016, loss train 0.02416188, train accuracy 0.99299997, test accuracy 0.98787063\n",
      "Epoch 0017, loss train 0.01275537, train accuracy 0.99299997, test accuracy 0.98854446\n",
      "Epoch 0018, loss train 0.05628527, train accuracy 0.99400002, test accuracy 0.98989218\n",
      "Epoch 0019, loss train 0.01873787, train accuracy 0.99299997, test accuracy 0.98787063\n",
      "Epoch 0020, loss train 0.01358332, train accuracy 0.99299997, test accuracy 0.98652291\n",
      "Epoch 0021, loss train 0.01103561, train accuracy 0.99400002, test accuracy 0.98989218\n",
      "Epoch 0022, loss train 0.20450012, train accuracy 0.99400002, test accuracy 0.99056602\n",
      "Epoch 0023, loss train 0.01232599, train accuracy 0.99400002, test accuracy 0.99326146\n",
      "Epoch 0024, loss train 0.02740128, train accuracy 0.99400002, test accuracy 0.99326146\n",
      "Epoch 0025, loss train 0.01306506, train accuracy 0.99400002, test accuracy 0.99258763\n",
      "Epoch 0026, loss train 0.00844380, train accuracy 0.99400002, test accuracy 0.99460918\n",
      "Epoch 0027, loss train 0.01382605, train accuracy 0.99599999, test accuracy 0.99460918\n",
      "Epoch 0028, loss train 0.01922010, train accuracy 0.99599999, test accuracy 0.99460918\n",
      "Epoch 0029, loss train 0.22644149, train accuracy 0.99699998, test accuracy 0.99528301\n",
      "Epoch 0030, loss train 0.01206030, train accuracy 0.99599999, test accuracy 0.99460918\n",
      "Epoch 0031, loss train 0.02553769, train accuracy 0.99400002, test accuracy 0.99123991\n",
      "Epoch 0032, loss train 0.00494014, train accuracy 0.99500000, test accuracy 0.99393529\n",
      "Epoch 0033, loss train 0.00601296, train accuracy 0.99699998, test accuracy 0.99528301\n",
      "Epoch 0034, loss train 0.00679656, train accuracy 0.99599999, test accuracy 0.99460918\n",
      "Epoch 0035, loss train 0.00594883, train accuracy 0.99699998, test accuracy 0.99460918\n",
      "Epoch 0036, loss train 0.00401013, train accuracy 0.99699998, test accuracy 0.99595690\n",
      "Epoch 0037, loss train 0.00473916, train accuracy 0.99699998, test accuracy 0.99528301\n",
      "Epoch 0038, loss train 0.00831298, train accuracy 0.99800003, test accuracy 0.99528301\n",
      "Epoch 0039, loss train 0.00408742, train accuracy 0.99800003, test accuracy 0.99595690\n",
      "Epoch 0040, loss train 0.00684457, train accuracy 0.99699998, test accuracy 0.99528301\n",
      "Epoch 0041, loss train 0.00917630, train accuracy 0.99800003, test accuracy 0.99460918\n",
      "Epoch 0042, loss train 0.00332411, train accuracy 0.99800003, test accuracy 0.99663073\n",
      "Epoch 0043, loss train 0.00161872, train accuracy 0.99900001, test accuracy 0.99595690\n",
      "Epoch 0044, loss train 0.00111411, train accuracy 0.99699998, test accuracy 0.99595690\n",
      "Epoch 0045, loss train 0.00391000, train accuracy 0.99800003, test accuracy 0.99595690\n",
      "Epoch 0046, loss train 0.00145687, train accuracy 0.99800003, test accuracy 0.99730456\n",
      "Epoch 0047, loss train 0.01238725, train accuracy 0.99699998, test accuracy 0.99528301\n",
      "Epoch 0048, loss train 0.00118985, train accuracy 0.99800003, test accuracy 0.99663073\n",
      "Epoch 0049, loss train 0.00326714, train accuracy 0.99699998, test accuracy 0.99595690\n"
     ]
    }
   ],
   "source": [
    "loss_train_array = []\n",
    "test_accuracy_array = []\n",
    "train_accuracy_array = []\n",
    "\n",
    "for current_epoch in range(NUM_EPOCHS):\n",
    "    shuffled_index = np.arange(X_train.shape[0])\n",
    "    np.random.shuffle(shuffled_index)\n",
    "\n",
    "    train_dataset = X_train[shuffled_index]\n",
    "    train_labels = Y_train[shuffled_index]\n",
    "\n",
    "    for step in xrange(int(X_train.shape[0] / BATCH_SIZE)):\n",
    "        \n",
    "        offset = step * BATCH_SIZE\n",
    "        batch_data = train_dataset[offset:(offset + BATCH_SIZE)]\n",
    "        batch_labels = train_labels[offset:(offset + BATCH_SIZE)]\n",
    "        \n",
    "        # This dictionary maps the batch data (as a numpy array) to the\n",
    "        # node in the graph is should be fed to.\n",
    "        feed_dict = {x: batch_data, y: batch_labels, pkeep: 0.8}\n",
    "        _, loss_train = sess.run([train_step, loss],\n",
    "                                 feed_dict=feed_dict)\n",
    "\n",
    "    # We calculate the accuracies to plot their values later\n",
    "    loss_train_array.append(loss_train)\n",
    "    \n",
    "    train_accuracy = sess.run(\n",
    "        accuracy, feed_dict={x: X_train, y: Y_train, pkeep: 1.0})\n",
    "    \n",
    "    train_accuracy_array.append(train_accuracy)\n",
    "    \n",
    "    test_accuracy = sess.run(\n",
    "        accuracy, feed_dict={x: X_test, y: Y_test, pkeep: 1.0})\n",
    "    \n",
    "    test_accuracy_array.append(test_accuracy)\n",
    "\n",
    "    print (\n",
    "        'Epoch %04d, '\n",
    "        'loss train %.8f, train accuracy %.8f, test accuracy %.8f'\n",
    "        %\n",
    "        (current_epoch,\n",
    "         loss_train,\n",
    "         train_accuracy,\n",
    "         test_accuracy))"
   ]
  },
  {
   "cell_type": "code",
   "execution_count": 15,
   "metadata": {
    "collapsed": false
   },
   "outputs": [
    {
     "name": "stdout",
     "output_type": "stream",
     "text": [
      "Model saved in file: /tmp/model_conv_2.ckpt\n"
     ]
    }
   ],
   "source": [
    "#Save model\n",
    "save_path = saver.save(sess, \"/tmp/model_conv_2.ckpt\")\n",
    "print(\"Model saved in file: %s\" % save_path)"
   ]
  },
  {
   "cell_type": "code",
   "execution_count": 16,
   "metadata": {
    "collapsed": false
   },
   "outputs": [
    {
     "data": {
      "text/plain": [
       "[<matplotlib.lines.Line2D at 0x7fbe15267b50>]"
      ]
     },
     "execution_count": 16,
     "metadata": {},
     "output_type": "execute_result"
    },
    {
     "data": {
      "image/png": "[encoded data removed]",
      "text/plain": [
       "<matplotlib.figure.Figure at 0x7fbe28273050>"
      ]
     },
     "metadata": {},
     "output_type": "display_data"
    }
   ],
   "source": [
    "plt.plot(loss_train_array)"
   ]
  },
  {
   "cell_type": "code",
   "execution_count": 17,
   "metadata": {
    "collapsed": false
   },
   "outputs": [
    {
     "data": {
      "text/plain": [
       "[<matplotlib.lines.Line2D at 0x7fbe85a11f90>]"
      ]
     },
     "execution_count": 17,
     "metadata": {},
     "output_type": "execute_result"
    },
    {
     "data": {
      "image/png": "[encoded data removed]",
      "text/plain": [
       "<matplotlib.figure.Figure at 0x7fbe15f94f10>"
      ]
     },
     "metadata": {},
     "output_type": "display_data"
    }
   ],
   "source": [
    "plt.plot(test_accuracy_array)\n",
    "plt.plot(train_accuracy_array)"
   ]
  },
  {
   "cell_type": "code",
   "execution_count": 80,
   "metadata": {
    "collapsed": false
   },
   "outputs": [
    {
     "ename": "RuntimeError",
     "evalue": "Unsupported image type, must be 8bit gray or RGB image.",
     "output_type": "error",
     "traceback": [
      "\u001b[0;31m---------------------------------------------------------------------------\u001b[0m",
      "\u001b[0;31mRuntimeError\u001b[0m                              Traceback (most recent call last)",
      "\u001b[0;32m<ipython-input-80-71f55c638ad6>\u001b[0m in \u001b[0;36m<module>\u001b[0;34m()\u001b[0m\n\u001b[1;32m     23\u001b[0m     \u001b[0;31m#win.add_overlay(dlib.rectangle(long(260), long(160), long(420), long(320)))\u001b[0m\u001b[0;34m\u001b[0m\u001b[0;34m\u001b[0m\u001b[0m\n\u001b[1;32m     24\u001b[0m \u001b[0;34m\u001b[0m\u001b[0m\n\u001b[0;32m---> 25\u001b[0;31m     \u001b[0mdets\u001b[0m \u001b[0;34m=\u001b[0m \u001b[0mdetector\u001b[0m\u001b[0;34m(\u001b[0m\u001b[0mframe\u001b[0m\u001b[0;34m)\u001b[0m\u001b[0;34m\u001b[0m\u001b[0m\n\u001b[0m\u001b[1;32m     26\u001b[0m     \u001b[0;32mif\u001b[0m \u001b[0mlen\u001b[0m\u001b[0;34m(\u001b[0m\u001b[0mdets\u001b[0m\u001b[0;34m)\u001b[0m \u001b[0;34m==\u001b[0m \u001b[0;36m0\u001b[0m\u001b[0;34m:\u001b[0m\u001b[0;34m\u001b[0m\u001b[0m\n\u001b[1;32m     27\u001b[0m         \u001b[0mtag\u001b[0m \u001b[0;34m=\u001b[0m \u001b[0;34m'John Doe'\u001b[0m\u001b[0;34m\u001b[0m\u001b[0m\n",
      "\u001b[0;31mRuntimeError\u001b[0m: Unsupported image type, must be 8bit gray or RGB image."
     ]
    }
   ],
   "source": [
    "video_capture = cv2.VideoCapture(0)\n",
    "win = dlib.image_window()\n",
    "detector = dlib.get_frontal_face_detector()\n",
    "#\n",
    "tag = ':)'\n",
    "\n",
    "\n",
    "\n",
    "while True:\n",
    "    # Capture frame-by-frame\n",
    "    ret, frame = video_capture.read()\n",
    "\n",
    "    win.clear_overlay()\n",
    "    \n",
    "    font = cv2.FONT_HERSHEY_SIMPLEX\n",
    "    cv2.putText(frame,'Hi ' + tag + '!!!',(0,130), font, 1, (200,255,155), 2, cv2.LINE_AA)\n",
    "    \n",
    "    try:\n",
    "        win.set_image(frame)\n",
    "    except:\n",
    "        pass\n",
    "    \n",
    "    #win.add_overlay(dlib.rectangle(long(260), long(160), long(420), long(320)))\n",
    "\n",
    "    dets = detector(frame)\n",
    "    if len(dets) == 0:\n",
    "        tag = 'John Doe'\n",
    "        \n",
    "    for k, d in enumerate(dets):\n",
    "\n",
    "        try:\n",
    "            img = cv2.resize(frame[d.top():d.top() + d.height(), d.left(): d.left() + d.width()], (resize_x, resize_y),\n",
    "                             interpolation=cv2.INTER_AREA)\n",
    "            \n",
    "            win.add_overlay(d)\n",
    "\n",
    "            img = img.reshape(-1).reshape(1, 19200)\n",
    "\n",
    "            img = np.array(img) / 255\n",
    "\n",
    "            feed_dict = {x: img, pkeep: 1.0}\n",
    "\n",
    "            classification = sess.run(y_softmax, feed_dict)\n",
    "\n",
    "            gabriel_level = classification[0][0]\n",
    "            david_level = classification[0][1]\n",
    "            \n",
    "            if(gabriel_level > david_level):\n",
    "                tag = 'Gabriel'\n",
    "            else:\n",
    "                tag = 'David'\n",
    "        except:\n",
    "            pass"
   ]
  },
  {
   "cell_type": "code",
   "execution_count": null,
   "metadata": {
    "collapsed": true
   },
   "outputs": [],
   "source": []
  }
 ],
 "metadata": {
  "kernelspec": {
   "display_name": "Python 2",
   "language": "python",
   "name": "python2"
  },
  "language_info": {
   "codemirror_mode": {
    "name": "ipython",
    "version": 2
   },
   "file_extension": ".py",
   "mimetype": "text/x-python",
   "name": "python",
   "nbconvert_exporter": "python",
   "pygments_lexer": "ipython2",
   "version": "2.7.9"
  }
 },
 "nbformat": 4,
 "nbformat_minor": 0
}
