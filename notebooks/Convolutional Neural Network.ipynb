{
 "cells": [
  {
   "cell_type": "code",
   "execution_count": 202,
   "metadata": {
    "collapsed": false
   },
   "outputs": [],
   "source": [
    "from __future__ import division\n",
    "\n",
    "import cv2\n",
    "import sys\n",
    "import os\n",
    "import dlib\n",
    "import glob\n",
    "import csv\n",
    "from skimage import io\n",
    "import numpy as np\n",
    "import matplotlib.pyplot as plt\n",
    "import tensorflow as tf\n",
    "import pandas as pd\n",
    "from sklearn.utils import shuffle \n",
    "%matplotlib inline"
   ]
  },
  {
   "cell_type": "code",
   "execution_count": 257,
   "metadata": {
    "collapsed": true
   },
   "outputs": [],
   "source": [
    "images = []\n",
    "labels = []\n",
    "resize_x = 80\n",
    "resize_y = 80"
   ]
  },
  {
   "cell_type": "code",
   "execution_count": 258,
   "metadata": {
    "collapsed": true
   },
   "outputs": [],
   "source": [
    "def conv2d(x, W):\n",
    "    return tf.nn.conv2d(\n",
    "        x, W, strides=[1, 1, 1, 1], padding='SAME')\n",
    "\n",
    "def max_pool_2x2(x):\n",
    "    return tf.nn.max_pool(\n",
    "        x, ksize=[1, 2, 2, 1], strides=[1, 2, 2, 1], padding='SAME')"
   ]
  },
  {
   "cell_type": "code",
   "execution_count": 259,
   "metadata": {
    "collapsed": false
   },
   "outputs": [],
   "source": [
    "with open('../data/convolutional/data.csv', 'rb') as mycsvfile:\n",
    "    thedata = csv.reader(mycsvfile, delimiter=':')\n",
    "    thedata.next()\n",
    "    for row in thedata:\n",
    "        image = np.fromstring(row[0].replace(\"[\", \"\").replace(\"]\", \"\"), dtype=int, sep=\" \")\n",
    "        label = row[1]\n",
    "        images.append(image)\n",
    "        labels.append(label)\n",
    "        tmp_img = np.fliplr(np.array(image).reshape(80,80,3))\n",
    "        images.append(tmp_img.reshape(-1))\n",
    "        labels.append(label)"
   ]
  },
  {
   "cell_type": "code",
   "execution_count": 260,
   "metadata": {
    "collapsed": false
   },
   "outputs": [],
   "source": [
    "labels = np.array(labels)"
   ]
  },
  {
   "cell_type": "code",
   "execution_count": 261,
   "metadata": {
    "collapsed": false
   },
   "outputs": [],
   "source": [
    "df_labels = pd.get_dummies(labels)\n",
    "labels = np.array(df_labels)"
   ]
  },
  {
   "cell_type": "code",
   "execution_count": 262,
   "metadata": {
    "collapsed": false
   },
   "outputs": [],
   "source": [
    "images = np.array(images) / 255"
   ]
  },
  {
   "cell_type": "code",
   "execution_count": 263,
   "metadata": {
    "collapsed": false
   },
   "outputs": [
    {
     "data": {
      "text/plain": [
       "(2486, 19200)"
      ]
     },
     "execution_count": 263,
     "metadata": {},
     "output_type": "execute_result"
    }
   ],
   "source": [
    "images.shape"
   ]
  },
  {
   "cell_type": "code",
   "execution_count": 264,
   "metadata": {
    "collapsed": false
   },
   "outputs": [],
   "source": [
    "images, labels = shuffle(images, labels, random_state=43)"
   ]
  },
  {
   "cell_type": "code",
   "execution_count": 265,
   "metadata": {
    "collapsed": true
   },
   "outputs": [],
   "source": [
    "X_train = images[:2000]\n",
    "Y_train = labels.reshape(len(labels), -1)[:2000]\n",
    "\n",
    "X_test = images[2000:]\n",
    "Y_test = labels.reshape(len(labels), -1)[2000:]"
   ]
  },
  {
   "cell_type": "code",
   "execution_count": 266,
   "metadata": {
    "collapsed": true
   },
   "outputs": [],
   "source": [
    "# Input and output variables\n",
    "\n",
    "INPUTS = resize_x * resize_y * 3\n",
    "OUTPUTS = 2\n",
    "BATCH_SIZE = 100\n",
    "NUM_EPOCHS = 300\n",
    "LEARNING_RATE = 1e-04"
   ]
  },
  {
   "cell_type": "code",
   "execution_count": 267,
   "metadata": {
    "collapsed": true
   },
   "outputs": [],
   "source": [
    "try:\n",
    "    sess.close()\n",
    "except:\n",
    "    pass\n",
    "\n",
    "sess = tf.InteractiveSession()"
   ]
  },
  {
   "cell_type": "code",
   "execution_count": 268,
   "metadata": {
    "collapsed": false
   },
   "outputs": [],
   "source": [
    "# Input and output placeholder\n",
    "x = tf.placeholder(tf.float32, [None, INPUTS])\n",
    "y = tf.placeholder(tf.float32, [None, OUTPUTS])\n",
    "pkeep = tf.placeholder(tf.float32)\n",
    "\n",
    "# First Convolutional Layer\n",
    "x_image = tf.reshape(x, [-1, resize_x, resize_y, 3])\n",
    "W_conv_1 = tf.Variable(tf.truncated_normal([2, 2, 3, 8], stddev=0.1))\n",
    "b_conv_1 = tf.Variable(tf.constant(0.0, shape=[8]))\n",
    "h_conv_1 = tf.nn.relu(conv2d(x_image, W_conv_1) + b_conv_1)\n",
    "h_pool_1 = max_pool_2x2(h_conv_1)\n",
    "\n",
    "# Second Convolutional Layer\n",
    "W_conv_2 = tf.Variable(tf.truncated_normal([2, 2, 8, 16], stddev=0.1))\n",
    "b_conv_2 = tf.Variable(tf.constant(0.0, shape=[16]))\n",
    "h_conv_2 = tf.nn.relu(conv2d(h_pool_1, W_conv_2) + b_conv_2)\n",
    "h_pool_2 = max_pool_2x2(h_conv_2)\n",
    "\n",
    "# Third Convolutional Layer\n",
    "W_conv_3 = tf.Variable(tf.truncated_normal([2, 2, 16, 32], stddev=0.1))\n",
    "b_conv_3 = tf.Variable(tf.constant(0.0, shape=[32]))\n",
    "h_conv_3 = tf.nn.relu(conv2d(h_pool_2, W_conv_3) + b_conv_3)\n",
    "h_pool_3 = max_pool_2x2(h_conv_3)\n",
    "\n",
    "# Fourth Convolutional Layer\n",
    "W_conv_4 = tf.Variable(tf.truncated_normal([2, 2, 32, 64], stddev=0.1))\n",
    "b_conv_4 = tf.Variable(tf.constant(0.0, shape=[64]))\n",
    "h_conv_4 = tf.nn.relu(conv2d(h_pool_3, W_conv_4) + b_conv_4)\n",
    "h_pool_4 = max_pool_2x2(h_conv_4)\n",
    "\n",
    "# Densely connected layer\n",
    "W_fc1 = tf.Variable(tf.truncated_normal([5 * 5 * 64, 128], stddev=0.1))\n",
    "b_fc1 = tf.Variable(tf.constant(0.0, shape=[128]))\n",
    "h_poolfc1_flat = tf.reshape(h_pool_4, [-1, 5 * 5 * 64])\n",
    "h_fc1 = tf.nn.relu(tf.matmul(h_poolfc1_flat, W_fc1) + b_fc1)\n",
    "\n",
    "# Densely connected layer\n",
    "W_fc2 = tf.Variable(tf.truncated_normal([128, 256], stddev=0.1))\n",
    "b_fc2 = tf.Variable(tf.constant(0.0, shape=[256]))\n",
    "h_fc2 = tf.nn.relu(tf.matmul(h_fc1, W_fc2) + b_fc2)\n",
    "\n",
    "# Dropout\n",
    "h_drop = tf.nn.dropout(h_fc2, pkeep)\n",
    "\n",
    "# Read out Layer\n",
    "W_fc3 = tf.Variable(tf.truncated_normal([256, OUTPUTS], stddev=0.1))\n",
    "b_fc3 = tf.Variable(tf.constant(0.0, shape=[OUTPUTS]))\n",
    "y_logits = tf.matmul(h_drop, W_fc3) + b_fc3\n",
    "y_softmax = tf.nn.softmax(y_logits)\n",
    "\n",
    "loss = tf.reduce_mean(tf.nn.softmax_cross_entropy_with_logits(y_logits, y))\n",
    "optimizer = tf.train.AdamOptimizer(LEARNING_RATE)\n",
    "train_step = optimizer.minimize(loss)\n",
    "\n",
    "correct_prediction = tf.equal(tf.argmax(y_softmax, 1), tf.argmax(y, 1))\n",
    "accuracy = tf.reduce_mean(tf.cast(correct_prediction, tf.float32))\n",
    "\n",
    "init = tf.initialize_all_variables()\n",
    "\n",
    "saver = tf.train.Saver()\n",
    "\n",
    "sess.run(init)"
   ]
  },
  {
   "cell_type": "code",
   "execution_count": 269,
   "metadata": {
    "collapsed": false
   },
   "outputs": [
    {
     "name": "stdout",
     "output_type": "stream",
     "text": [
      "Epoch 0000, loss train 0.67267156, train accuracy 0.59950000, test accuracy 0.63580245\n",
      "Epoch 0001, loss train 0.64331007, train accuracy 0.59950000, test accuracy 0.63580245\n",
      "Epoch 0002, loss train 0.62389052, train accuracy 0.59950000, test accuracy 0.63580245\n",
      "Epoch 0003, loss train 0.62973505, train accuracy 0.59950000, test accuracy 0.63580245\n",
      "Epoch 0004, loss train 0.60471064, train accuracy 0.63450003, test accuracy 0.66255146\n",
      "Epoch 0005, loss train 0.57240498, train accuracy 0.90700001, test accuracy 0.90946501\n",
      "Epoch 0006, loss train 0.47821835, train accuracy 0.88349998, test accuracy 0.89094651\n",
      "Epoch 0007, loss train 0.34041664, train accuracy 0.97649997, test accuracy 0.98353910\n",
      "Epoch 0008, loss train 0.22485557, train accuracy 0.95050001, test accuracy 0.97325104\n",
      "Epoch 0009, loss train 0.25292048, train accuracy 0.98549998, test accuracy 0.98559672\n",
      "Epoch 0010, loss train 0.16187976, train accuracy 0.98850000, test accuracy 0.98559672\n",
      "Epoch 0011, loss train 0.19897446, train accuracy 0.98350000, test accuracy 0.98148149\n",
      "Epoch 0012, loss train 0.10591412, train accuracy 0.98949999, test accuracy 0.98559672\n",
      "Epoch 0013, loss train 0.04484178, train accuracy 0.99100000, test accuracy 0.98559672\n",
      "Epoch 0014, loss train 0.09288695, train accuracy 0.99349999, test accuracy 0.98765433\n",
      "Epoch 0015, loss train 0.11111379, train accuracy 0.99299997, test accuracy 0.98765433\n",
      "Epoch 0016, loss train 0.02750134, train accuracy 0.99400002, test accuracy 0.98765433\n",
      "Epoch 0017, loss train 0.07697919, train accuracy 0.99449998, test accuracy 0.98765433\n",
      "Epoch 0018, loss train 0.16033772, train accuracy 0.99449998, test accuracy 0.98765433\n",
      "Epoch 0019, loss train 0.01920552, train accuracy 0.99500000, test accuracy 0.98765433\n",
      "Epoch 0020, loss train 0.02235659, train accuracy 0.99500000, test accuracy 0.98765433\n",
      "Epoch 0021, loss train 0.05320762, train accuracy 0.99550003, test accuracy 0.99382716\n",
      "Epoch 0022, loss train 0.06068351, train accuracy 0.99550003, test accuracy 0.99382716\n",
      "Epoch 0023, loss train 0.05815216, train accuracy 0.99550003, test accuracy 0.99382716\n",
      "Epoch 0024, loss train 0.02959810, train accuracy 0.99650002, test accuracy 0.99382716\n",
      "Epoch 0025, loss train 0.01634059, train accuracy 0.99500000, test accuracy 0.99382716\n",
      "Epoch 0026, loss train 0.01062789, train accuracy 0.99550003, test accuracy 0.99176955\n",
      "Epoch 0027, loss train 0.09199688, train accuracy 0.99550003, test accuracy 0.99382716\n",
      "Epoch 0028, loss train 0.01280104, train accuracy 0.99550003, test accuracy 0.99382716\n",
      "Epoch 0029, loss train 0.01224974, train accuracy 0.99500000, test accuracy 0.99588478\n",
      "Epoch 0030, loss train 0.01404641, train accuracy 0.99550003, test accuracy 0.99382716\n",
      "Epoch 0031, loss train 0.09277573, train accuracy 0.99550003, test accuracy 0.99382716\n",
      "Epoch 0032, loss train 0.08566725, train accuracy 0.99550003, test accuracy 0.99382716\n",
      "Epoch 0033, loss train 0.02807972, train accuracy 0.99650002, test accuracy 0.99588478\n",
      "Epoch 0034, loss train 0.00528942, train accuracy 0.99550003, test accuracy 0.99382716\n",
      "Epoch 0035, loss train 0.04074359, train accuracy 0.99699998, test accuracy 0.99794239\n",
      "Epoch 0036, loss train 0.01099315, train accuracy 0.99849999, test accuracy 0.99794239\n",
      "Epoch 0037, loss train 0.02808616, train accuracy 0.99699998, test accuracy 0.99794239\n",
      "Epoch 0038, loss train 0.00495231, train accuracy 0.99699998, test accuracy 0.99794239\n",
      "Epoch 0039, loss train 0.00476104, train accuracy 0.99599999, test accuracy 0.99382716\n",
      "Epoch 0040, loss train 0.00885507, train accuracy 0.99699998, test accuracy 0.99794239\n",
      "Epoch 0041, loss train 0.03052462, train accuracy 0.99550003, test accuracy 0.99588478\n",
      "Epoch 0042, loss train 0.00302227, train accuracy 0.99650002, test accuracy 0.99794239\n",
      "Epoch 0043, loss train 0.00460142, train accuracy 0.99900001, test accuracy 1.00000000\n",
      "Epoch 0044, loss train 0.07648946, train accuracy 0.99599999, test accuracy 0.99588478\n",
      "Epoch 0045, loss train 0.00278681, train accuracy 0.99900001, test accuracy 1.00000000\n",
      "Epoch 0046, loss train 0.00306530, train accuracy 0.99900001, test accuracy 1.00000000\n",
      "Epoch 0047, loss train 0.00454699, train accuracy 0.99750000, test accuracy 0.99794239\n",
      "Epoch 0048, loss train 0.00539396, train accuracy 0.99800003, test accuracy 0.99794239\n",
      "Epoch 0049, loss train 0.06790728, train accuracy 0.99900001, test accuracy 1.00000000\n",
      "Epoch 0050, loss train 0.00415079, train accuracy 0.99849999, test accuracy 1.00000000\n",
      "Epoch 0051, loss train 0.00126347, train accuracy 0.99750000, test accuracy 0.99794239\n",
      "Epoch 0052, loss train 0.00183433, train accuracy 0.99849999, test accuracy 0.99794239\n",
      "Epoch 0053, loss train 0.00231000, train accuracy 0.99900001, test accuracy 1.00000000\n",
      "Epoch 0054, loss train 0.00283829, train accuracy 0.99849999, test accuracy 1.00000000\n",
      "Epoch 0055, loss train 0.00757784, train accuracy 0.99750000, test accuracy 0.99794239\n",
      "Epoch 0056, loss train 0.00677186, train accuracy 0.99800003, test accuracy 0.99794239\n",
      "Epoch 0057, loss train 0.08322638, train accuracy 0.99800003, test accuracy 1.00000000\n",
      "Epoch 0058, loss train 0.05527345, train accuracy 0.99599999, test accuracy 0.99794239\n",
      "Epoch 0059, loss train 0.03407898, train accuracy 0.99900001, test accuracy 1.00000000\n",
      "Epoch 0060, loss train 0.03217154, train accuracy 0.99750000, test accuracy 0.99588478\n",
      "Epoch 0061, loss train 0.00152456, train accuracy 0.99900001, test accuracy 1.00000000\n",
      "Epoch 0062, loss train 0.00971838, train accuracy 0.99900001, test accuracy 1.00000000\n",
      "Epoch 0063, loss train 0.00506732, train accuracy 0.99699998, test accuracy 0.99176955\n",
      "Epoch 0064, loss train 0.00146098, train accuracy 0.99900001, test accuracy 1.00000000\n",
      "Epoch 0065, loss train 0.00469815, train accuracy 0.99750000, test accuracy 0.99794239\n",
      "Epoch 0066, loss train 0.00304772, train accuracy 0.99900001, test accuracy 1.00000000\n",
      "Epoch 0067, loss train 0.00161592, train accuracy 0.99900001, test accuracy 1.00000000\n",
      "Epoch 0068, loss train 0.00193673, train accuracy 0.99900001, test accuracy 1.00000000\n",
      "Epoch 0069, loss train 0.00085508, train accuracy 0.99900001, test accuracy 1.00000000\n",
      "Epoch 0070, loss train 0.00199266, train accuracy 0.99900001, test accuracy 1.00000000\n",
      "Epoch 0071, loss train 0.00270458, train accuracy 0.99900001, test accuracy 1.00000000\n",
      "Epoch 0072, loss train 0.00224925, train accuracy 0.99900001, test accuracy 1.00000000\n",
      "Epoch 0073, loss train 0.02708154, train accuracy 0.99949998, test accuracy 1.00000000\n",
      "Epoch 0074, loss train 0.00538885, train accuracy 0.99750000, test accuracy 0.99794239\n",
      "Epoch 0075, loss train 0.00213795, train accuracy 0.99849999, test accuracy 1.00000000\n",
      "Epoch 0076, loss train 0.00078383, train accuracy 0.99900001, test accuracy 1.00000000\n",
      "Epoch 0077, loss train 0.00119887, train accuracy 0.99900001, test accuracy 1.00000000\n",
      "Epoch 0078, loss train 0.00081539, train accuracy 0.99900001, test accuracy 1.00000000\n",
      "Epoch 0079, loss train 0.00166895, train accuracy 0.99750000, test accuracy 0.99382716\n",
      "Epoch 0080, loss train 0.01582130, train accuracy 0.99900001, test accuracy 0.99794239\n",
      "Epoch 0081, loss train 0.00243916, train accuracy 0.99900001, test accuracy 0.99588478\n",
      "Epoch 0082, loss train 0.00211712, train accuracy 0.99849999, test accuracy 1.00000000\n",
      "Epoch 0083, loss train 0.00050831, train accuracy 0.99949998, test accuracy 1.00000000\n",
      "Epoch 0084, loss train 0.00064103, train accuracy 0.99949998, test accuracy 1.00000000\n",
      "Epoch 0085, loss train 0.00077828, train accuracy 0.99900001, test accuracy 1.00000000\n",
      "Epoch 0086, loss train 0.00032492, train accuracy 0.99900001, test accuracy 1.00000000\n",
      "Epoch 0087, loss train 0.00117644, train accuracy 1.00000000, test accuracy 1.00000000\n",
      "Epoch 0088, loss train 0.00363286, train accuracy 0.99900001, test accuracy 1.00000000\n",
      "Epoch 0089, loss train 0.00027399, train accuracy 1.00000000, test accuracy 1.00000000\n",
      "Epoch 0090, loss train 0.00070483, train accuracy 1.00000000, test accuracy 1.00000000\n",
      "Epoch 0091, loss train 0.01703281, train accuracy 0.99900001, test accuracy 1.00000000\n",
      "Epoch 0092, loss train 0.00047919, train accuracy 0.99900001, test accuracy 1.00000000\n",
      "Epoch 0093, loss train 0.00185648, train accuracy 0.99900001, test accuracy 1.00000000\n",
      "Epoch 0094, loss train 0.09068462, train accuracy 0.99900001, test accuracy 1.00000000\n",
      "Epoch 0095, loss train 0.00285986, train accuracy 0.99900001, test accuracy 1.00000000\n",
      "Epoch 0096, loss train 0.03753175, train accuracy 0.99900001, test accuracy 1.00000000\n",
      "Epoch 0097, loss train 0.00051906, train accuracy 0.99949998, test accuracy 1.00000000\n",
      "Epoch 0098, loss train 0.00052420, train accuracy 1.00000000, test accuracy 1.00000000\n",
      "Epoch 0099, loss train 0.00119910, train accuracy 0.99849999, test accuracy 0.99794239\n",
      "Epoch 0100, loss train 0.00031459, train accuracy 0.99900001, test accuracy 1.00000000\n",
      "Epoch 0101, loss train 0.00056533, train accuracy 0.99900001, test accuracy 1.00000000\n",
      "Epoch 0102, loss train 0.01702152, train accuracy 0.99900001, test accuracy 1.00000000\n",
      "Epoch 0103, loss train 0.00057543, train accuracy 0.99949998, test accuracy 1.00000000\n",
      "Epoch 0104, loss train 0.00107672, train accuracy 0.99849999, test accuracy 0.99794239\n",
      "Epoch 0105, loss train 0.00034322, train accuracy 1.00000000, test accuracy 1.00000000\n",
      "Epoch 0106, loss train 0.00163853, train accuracy 1.00000000, test accuracy 1.00000000\n",
      "Epoch 0107, loss train 0.00965508, train accuracy 0.99699998, test accuracy 0.99176955\n",
      "Epoch 0108, loss train 0.00049445, train accuracy 0.99849999, test accuracy 0.99794239\n",
      "Epoch 0109, loss train 0.00098748, train accuracy 1.00000000, test accuracy 1.00000000\n",
      "Epoch 0110, loss train 0.00041103, train accuracy 1.00000000, test accuracy 1.00000000\n",
      "Epoch 0111, loss train 0.00043441, train accuracy 1.00000000, test accuracy 1.00000000\n",
      "Epoch 0112, loss train 0.00020267, train accuracy 0.99849999, test accuracy 0.99794239\n",
      "Epoch 0113, loss train 0.00456296, train accuracy 1.00000000, test accuracy 1.00000000\n",
      "Epoch 0114, loss train 0.00417243, train accuracy 0.99900001, test accuracy 1.00000000\n",
      "Epoch 0115, loss train 0.00023131, train accuracy 0.99900001, test accuracy 1.00000000\n",
      "Epoch 0116, loss train 0.01250922, train accuracy 1.00000000, test accuracy 1.00000000\n",
      "Epoch 0117, loss train 0.00018757, train accuracy 0.99900001, test accuracy 1.00000000\n",
      "Epoch 0118, loss train 0.00422676, train accuracy 0.99849999, test accuracy 0.99794239\n",
      "Epoch 0119, loss train 0.00038450, train accuracy 0.99849999, test accuracy 0.99794239\n",
      "Epoch 0120, loss train 0.00680672, train accuracy 0.99849999, test accuracy 0.99794239\n",
      "Epoch 0121, loss train 0.00018086, train accuracy 0.99900001, test accuracy 1.00000000\n",
      "Epoch 0122, loss train 0.00058686, train accuracy 1.00000000, test accuracy 1.00000000\n",
      "Epoch 0123, loss train 0.00034457, train accuracy 1.00000000, test accuracy 1.00000000\n",
      "Epoch 0124, loss train 0.07636538, train accuracy 0.99900001, test accuracy 1.00000000\n",
      "Epoch 0125, loss train 0.00414633, train accuracy 1.00000000, test accuracy 1.00000000\n",
      "Epoch 0126, loss train 0.00399421, train accuracy 1.00000000, test accuracy 1.00000000\n",
      "Epoch 0127, loss train 0.00020308, train accuracy 0.99900001, test accuracy 1.00000000\n",
      "Epoch 0128, loss train 0.00185338, train accuracy 0.99900001, test accuracy 0.99588478\n",
      "Epoch 0129, loss train 0.00358908, train accuracy 0.99750000, test accuracy 0.99176955\n",
      "Epoch 0130, loss train 0.00304675, train accuracy 1.00000000, test accuracy 1.00000000\n",
      "Epoch 0131, loss train 0.00414555, train accuracy 0.99849999, test accuracy 0.99588478\n",
      "Epoch 0132, loss train 0.01045553, train accuracy 1.00000000, test accuracy 1.00000000\n",
      "Epoch 0133, loss train 0.00014459, train accuracy 0.99949998, test accuracy 1.00000000\n",
      "Epoch 0134, loss train 0.00009101, train accuracy 1.00000000, test accuracy 1.00000000\n",
      "Epoch 0135, loss train 0.00074916, train accuracy 1.00000000, test accuracy 1.00000000\n",
      "Epoch 0136, loss train 0.00028892, train accuracy 1.00000000, test accuracy 1.00000000\n",
      "Epoch 0137, loss train 0.06320041, train accuracy 0.99800003, test accuracy 0.99176955\n",
      "Epoch 0138, loss train 0.00263785, train accuracy 1.00000000, test accuracy 1.00000000\n",
      "Epoch 0139, loss train 0.00037950, train accuracy 0.99900001, test accuracy 1.00000000\n",
      "Epoch 0140, loss train 0.00015372, train accuracy 0.99849999, test accuracy 0.99794239\n",
      "Epoch 0141, loss train 0.00011004, train accuracy 1.00000000, test accuracy 1.00000000\n",
      "Epoch 0142, loss train 0.00021374, train accuracy 1.00000000, test accuracy 1.00000000\n",
      "Epoch 0143, loss train 0.00020959, train accuracy 0.99800003, test accuracy 0.99176955\n",
      "Epoch 0144, loss train 0.00053141, train accuracy 1.00000000, test accuracy 1.00000000\n",
      "Epoch 0145, loss train 0.00007205, train accuracy 1.00000000, test accuracy 1.00000000\n",
      "Epoch 0146, loss train 0.00013133, train accuracy 1.00000000, test accuracy 1.00000000\n",
      "Epoch 0147, loss train 0.00029401, train accuracy 0.99949998, test accuracy 1.00000000\n",
      "Epoch 0148, loss train 0.00012227, train accuracy 1.00000000, test accuracy 1.00000000\n",
      "Epoch 0149, loss train 0.03531459, train accuracy 0.99800003, test accuracy 0.99176955\n",
      "Epoch 0150, loss train 0.00097874, train accuracy 0.99900001, test accuracy 1.00000000\n",
      "Epoch 0151, loss train 0.00015290, train accuracy 0.99900001, test accuracy 1.00000000\n",
      "Epoch 0152, loss train 0.01270807, train accuracy 0.99849999, test accuracy 0.99382716\n",
      "Epoch 0153, loss train 0.00139574, train accuracy 0.99849999, test accuracy 0.99588478\n",
      "Epoch 0154, loss train 0.00038441, train accuracy 1.00000000, test accuracy 1.00000000\n",
      "Epoch 0155, loss train 0.00081885, train accuracy 0.99949998, test accuracy 1.00000000\n",
      "Epoch 0156, loss train 0.00552104, train accuracy 0.99849999, test accuracy 0.99794239\n",
      "Epoch 0157, loss train 0.00044344, train accuracy 0.99900001, test accuracy 1.00000000\n",
      "Epoch 0158, loss train 0.00143810, train accuracy 1.00000000, test accuracy 1.00000000\n",
      "Epoch 0159, loss train 0.00009747, train accuracy 0.99900001, test accuracy 1.00000000\n",
      "Epoch 0160, loss train 0.00017180, train accuracy 1.00000000, test accuracy 1.00000000\n",
      "Epoch 0161, loss train 0.00012628, train accuracy 1.00000000, test accuracy 1.00000000\n",
      "Epoch 0162, loss train 0.00009726, train accuracy 1.00000000, test accuracy 1.00000000\n",
      "Epoch 0163, loss train 0.03577555, train accuracy 0.99900001, test accuracy 1.00000000\n",
      "Epoch 0164, loss train 0.00010787, train accuracy 1.00000000, test accuracy 1.00000000\n",
      "Epoch 0165, loss train 0.00009119, train accuracy 1.00000000, test accuracy 1.00000000\n",
      "Epoch 0166, loss train 0.00027921, train accuracy 0.99900001, test accuracy 1.00000000\n",
      "Epoch 0167, loss train 0.00010872, train accuracy 1.00000000, test accuracy 1.00000000\n",
      "Epoch 0168, loss train 0.00009175, train accuracy 0.99900001, test accuracy 1.00000000\n",
      "Epoch 0169, loss train 0.00004004, train accuracy 0.99849999, test accuracy 0.99794239\n",
      "Epoch 0170, loss train 0.00009431, train accuracy 1.00000000, test accuracy 1.00000000\n",
      "Epoch 0171, loss train 0.00019473, train accuracy 1.00000000, test accuracy 1.00000000\n",
      "Epoch 0172, loss train 0.00005643, train accuracy 1.00000000, test accuracy 1.00000000\n",
      "Epoch 0173, loss train 0.00011503, train accuracy 1.00000000, test accuracy 1.00000000\n",
      "Epoch 0174, loss train 0.00017107, train accuracy 0.99900001, test accuracy 1.00000000\n",
      "Epoch 0175, loss train 0.00016366, train accuracy 0.99849999, test accuracy 0.99794239\n",
      "Epoch 0176, loss train 0.00012264, train accuracy 0.99900001, test accuracy 1.00000000\n",
      "Epoch 0177, loss train 0.00020050, train accuracy 0.99849999, test accuracy 0.99382716\n",
      "Epoch 0178, loss train 0.00042470, train accuracy 0.99900001, test accuracy 1.00000000\n",
      "Epoch 0179, loss train 0.00166760, train accuracy 1.00000000, test accuracy 1.00000000\n",
      "Epoch 0180, loss train 0.00011962, train accuracy 0.99900001, test accuracy 1.00000000\n",
      "Epoch 0181, loss train 0.00103702, train accuracy 1.00000000, test accuracy 1.00000000\n",
      "Epoch 0182, loss train 0.00103449, train accuracy 1.00000000, test accuracy 1.00000000\n",
      "Epoch 0183, loss train 0.00017973, train accuracy 1.00000000, test accuracy 1.00000000\n",
      "Epoch 0184, loss train 0.00031032, train accuracy 0.99900001, test accuracy 1.00000000\n",
      "Epoch 0185, loss train 0.00042677, train accuracy 0.99900001, test accuracy 1.00000000\n",
      "Epoch 0186, loss train 0.00102633, train accuracy 0.99750000, test accuracy 0.98971194\n",
      "Epoch 0187, loss train 0.00984063, train accuracy 0.99900001, test accuracy 1.00000000\n",
      "Epoch 0188, loss train 0.00019445, train accuracy 0.99900001, test accuracy 1.00000000\n",
      "Epoch 0189, loss train 0.00303814, train accuracy 1.00000000, test accuracy 1.00000000\n",
      "Epoch 0190, loss train 0.00008770, train accuracy 1.00000000, test accuracy 1.00000000\n",
      "Epoch 0191, loss train 0.00217928, train accuracy 1.00000000, test accuracy 1.00000000\n",
      "Epoch 0192, loss train 0.00863638, train accuracy 1.00000000, test accuracy 1.00000000\n",
      "Epoch 0193, loss train 0.00020952, train accuracy 1.00000000, test accuracy 1.00000000\n",
      "Epoch 0194, loss train 0.00005071, train accuracy 1.00000000, test accuracy 1.00000000\n",
      "Epoch 0195, loss train 0.00041579, train accuracy 1.00000000, test accuracy 1.00000000\n",
      "Epoch 0196, loss train 0.00010552, train accuracy 1.00000000, test accuracy 1.00000000\n",
      "Epoch 0197, loss train 0.00006099, train accuracy 1.00000000, test accuracy 1.00000000\n",
      "Epoch 0198, loss train 0.00053125, train accuracy 1.00000000, test accuracy 1.00000000\n",
      "Epoch 0199, loss train 0.00004852, train accuracy 1.00000000, test accuracy 1.00000000\n",
      "Epoch 0200, loss train 0.00006557, train accuracy 1.00000000, test accuracy 1.00000000\n",
      "Epoch 0201, loss train 0.00004520, train accuracy 1.00000000, test accuracy 1.00000000\n",
      "Epoch 0202, loss train 0.00254433, train accuracy 0.99900001, test accuracy 1.00000000\n",
      "Epoch 0203, loss train 0.00017148, train accuracy 0.99900001, test accuracy 1.00000000\n",
      "Epoch 0204, loss train 0.00016608, train accuracy 0.99900001, test accuracy 1.00000000\n",
      "Epoch 0205, loss train 0.00002286, train accuracy 0.99849999, test accuracy 0.99794239\n",
      "Epoch 0206, loss train 0.00010246, train accuracy 0.99900001, test accuracy 1.00000000\n",
      "Epoch 0207, loss train 0.00005219, train accuracy 1.00000000, test accuracy 1.00000000\n",
      "Epoch 0208, loss train 0.00051740, train accuracy 1.00000000, test accuracy 1.00000000\n",
      "Epoch 0209, loss train 0.00008385, train accuracy 1.00000000, test accuracy 1.00000000\n",
      "Epoch 0210, loss train 0.00011973, train accuracy 0.99849999, test accuracy 0.99794239\n",
      "Epoch 0211, loss train 0.00021320, train accuracy 1.00000000, test accuracy 1.00000000\n",
      "Epoch 0212, loss train 0.00012987, train accuracy 1.00000000, test accuracy 1.00000000\n",
      "Epoch 0213, loss train 0.00198543, train accuracy 1.00000000, test accuracy 1.00000000\n",
      "Epoch 0214, loss train 0.00005563, train accuracy 1.00000000, test accuracy 1.00000000\n",
      "Epoch 0215, loss train 0.00008180, train accuracy 1.00000000, test accuracy 1.00000000\n",
      "Epoch 0216, loss train 0.00006291, train accuracy 1.00000000, test accuracy 1.00000000\n",
      "Epoch 0217, loss train 0.00004407, train accuracy 1.00000000, test accuracy 1.00000000\n",
      "Epoch 0218, loss train 0.00020644, train accuracy 0.99949998, test accuracy 1.00000000\n",
      "Epoch 0219, loss train 0.05177822, train accuracy 0.99849999, test accuracy 0.99794239\n",
      "Epoch 0220, loss train 0.00009889, train accuracy 1.00000000, test accuracy 0.99794239\n",
      "Epoch 0221, loss train 0.00027215, train accuracy 0.99900001, test accuracy 1.00000000\n",
      "Epoch 0222, loss train 0.01052505, train accuracy 1.00000000, test accuracy 1.00000000\n",
      "Epoch 0223, loss train 0.00002407, train accuracy 0.99849999, test accuracy 0.99794239\n",
      "Epoch 0224, loss train 0.00044612, train accuracy 0.99900001, test accuracy 1.00000000\n",
      "Epoch 0225, loss train 0.00058681, train accuracy 0.99849999, test accuracy 0.99794239\n",
      "Epoch 0226, loss train 0.00006198, train accuracy 0.99900001, test accuracy 1.00000000\n",
      "Epoch 0227, loss train 0.00007810, train accuracy 1.00000000, test accuracy 1.00000000\n",
      "Epoch 0228, loss train 0.00151344, train accuracy 1.00000000, test accuracy 1.00000000\n",
      "Epoch 0229, loss train 0.00015883, train accuracy 0.99900001, test accuracy 1.00000000\n",
      "Epoch 0230, loss train 0.00056445, train accuracy 1.00000000, test accuracy 1.00000000\n",
      "Epoch 0231, loss train 0.00003407, train accuracy 1.00000000, test accuracy 1.00000000\n",
      "Epoch 0232, loss train 0.00016868, train accuracy 0.99900001, test accuracy 1.00000000\n",
      "Epoch 0233, loss train 0.00017682, train accuracy 0.99849999, test accuracy 0.99794239\n",
      "Epoch 0234, loss train 0.00096236, train accuracy 0.99900001, test accuracy 0.99794239\n",
      "Epoch 0235, loss train 0.00014246, train accuracy 1.00000000, test accuracy 1.00000000\n",
      "Epoch 0236, loss train 0.00007643, train accuracy 1.00000000, test accuracy 1.00000000\n",
      "Epoch 0237, loss train 0.00003274, train accuracy 1.00000000, test accuracy 1.00000000\n",
      "Epoch 0238, loss train 0.00002864, train accuracy 1.00000000, test accuracy 1.00000000\n",
      "Epoch 0239, loss train 0.00107538, train accuracy 1.00000000, test accuracy 1.00000000\n",
      "Epoch 0240, loss train 0.00003844, train accuracy 1.00000000, test accuracy 1.00000000\n",
      "Epoch 0241, loss train 0.00232102, train accuracy 1.00000000, test accuracy 1.00000000\n",
      "Epoch 0242, loss train 0.00044962, train accuracy 1.00000000, test accuracy 1.00000000\n",
      "Epoch 0243, loss train 0.00015436, train accuracy 0.99900001, test accuracy 1.00000000\n",
      "Epoch 0244, loss train 0.00007170, train accuracy 1.00000000, test accuracy 1.00000000\n",
      "Epoch 0245, loss train 0.00109017, train accuracy 1.00000000, test accuracy 1.00000000\n",
      "Epoch 0246, loss train 0.00003594, train accuracy 1.00000000, test accuracy 1.00000000\n",
      "Epoch 0247, loss train 0.00002976, train accuracy 1.00000000, test accuracy 1.00000000\n",
      "Epoch 0248, loss train 0.00002065, train accuracy 1.00000000, test accuracy 1.00000000\n",
      "Epoch 0249, loss train 0.00003793, train accuracy 1.00000000, test accuracy 1.00000000\n",
      "Epoch 0250, loss train 0.00004237, train accuracy 1.00000000, test accuracy 1.00000000\n",
      "Epoch 0251, loss train 0.00002991, train accuracy 1.00000000, test accuracy 1.00000000\n",
      "Epoch 0252, loss train 0.00026068, train accuracy 1.00000000, test accuracy 1.00000000\n",
      "Epoch 0253, loss train 0.00059930, train accuracy 1.00000000, test accuracy 1.00000000\n",
      "Epoch 0254, loss train 0.00030288, train accuracy 1.00000000, test accuracy 1.00000000\n",
      "Epoch 0255, loss train 0.00001691, train accuracy 1.00000000, test accuracy 1.00000000\n",
      "Epoch 0256, loss train 0.00022010, train accuracy 1.00000000, test accuracy 1.00000000\n",
      "Epoch 0257, loss train 0.00002933, train accuracy 1.00000000, test accuracy 1.00000000\n",
      "Epoch 0258, loss train 0.00001431, train accuracy 1.00000000, test accuracy 1.00000000\n",
      "Epoch 0259, loss train 0.00001976, train accuracy 1.00000000, test accuracy 1.00000000\n",
      "Epoch 0260, loss train 0.00008838, train accuracy 1.00000000, test accuracy 1.00000000\n",
      "Epoch 0261, loss train 0.00151751, train accuracy 1.00000000, test accuracy 1.00000000\n",
      "Epoch 0262, loss train 0.00003793, train accuracy 1.00000000, test accuracy 1.00000000\n",
      "Epoch 0263, loss train 0.00001877, train accuracy 1.00000000, test accuracy 1.00000000\n",
      "Epoch 0264, loss train 0.00001077, train accuracy 1.00000000, test accuracy 1.00000000\n",
      "Epoch 0265, loss train 0.00000841, train accuracy 1.00000000, test accuracy 1.00000000\n",
      "Epoch 0266, loss train 0.00003324, train accuracy 1.00000000, test accuracy 1.00000000\n",
      "Epoch 0267, loss train 0.00001782, train accuracy 1.00000000, test accuracy 1.00000000\n",
      "Epoch 0268, loss train 0.00003980, train accuracy 1.00000000, test accuracy 1.00000000\n",
      "Epoch 0269, loss train 0.00007826, train accuracy 1.00000000, test accuracy 1.00000000\n",
      "Epoch 0270, loss train 0.00039217, train accuracy 1.00000000, test accuracy 1.00000000\n",
      "Epoch 0271, loss train 0.00002338, train accuracy 1.00000000, test accuracy 1.00000000\n",
      "Epoch 0272, loss train 0.00005548, train accuracy 1.00000000, test accuracy 1.00000000\n",
      "Epoch 0273, loss train 0.00001788, train accuracy 1.00000000, test accuracy 1.00000000\n",
      "Epoch 0274, loss train 0.00003488, train accuracy 1.00000000, test accuracy 1.00000000\n",
      "Epoch 0275, loss train 0.00012689, train accuracy 1.00000000, test accuracy 1.00000000\n",
      "Epoch 0276, loss train 0.00001542, train accuracy 1.00000000, test accuracy 1.00000000\n",
      "Epoch 0277, loss train 0.00001310, train accuracy 1.00000000, test accuracy 1.00000000\n",
      "Epoch 0278, loss train 0.00002628, train accuracy 1.00000000, test accuracy 1.00000000\n",
      "Epoch 0279, loss train 0.00088345, train accuracy 1.00000000, test accuracy 1.00000000\n",
      "Epoch 0280, loss train 0.00007656, train accuracy 1.00000000, test accuracy 1.00000000\n",
      "Epoch 0281, loss train 0.00001441, train accuracy 1.00000000, test accuracy 1.00000000\n",
      "Epoch 0282, loss train 0.00000662, train accuracy 1.00000000, test accuracy 1.00000000\n",
      "Epoch 0283, loss train 0.00138285, train accuracy 1.00000000, test accuracy 1.00000000\n",
      "Epoch 0284, loss train 0.00001753, train accuracy 1.00000000, test accuracy 1.00000000\n",
      "Epoch 0285, loss train 0.00181923, train accuracy 1.00000000, test accuracy 1.00000000\n",
      "Epoch 0286, loss train 0.00000614, train accuracy 1.00000000, test accuracy 1.00000000\n",
      "Epoch 0287, loss train 0.00020709, train accuracy 1.00000000, test accuracy 1.00000000\n",
      "Epoch 0288, loss train 0.00001299, train accuracy 1.00000000, test accuracy 1.00000000\n",
      "Epoch 0289, loss train 0.00003278, train accuracy 1.00000000, test accuracy 1.00000000\n",
      "Epoch 0290, loss train 0.00001669, train accuracy 1.00000000, test accuracy 1.00000000\n",
      "Epoch 0291, loss train 0.00000824, train accuracy 1.00000000, test accuracy 1.00000000\n",
      "Epoch 0292, loss train 0.00001180, train accuracy 1.00000000, test accuracy 1.00000000\n",
      "Epoch 0293, loss train 0.00021592, train accuracy 1.00000000, test accuracy 1.00000000\n",
      "Epoch 0294, loss train 0.00000739, train accuracy 1.00000000, test accuracy 1.00000000\n",
      "Epoch 0295, loss train 0.00002010, train accuracy 1.00000000, test accuracy 1.00000000\n",
      "Epoch 0296, loss train 0.00001914, train accuracy 1.00000000, test accuracy 1.00000000\n",
      "Epoch 0297, loss train 0.00007756, train accuracy 1.00000000, test accuracy 1.00000000\n",
      "Epoch 0298, loss train 0.00018140, train accuracy 1.00000000, test accuracy 1.00000000\n",
      "Epoch 0299, loss train 0.00026029, train accuracy 1.00000000, test accuracy 1.00000000\n"
     ]
    }
   ],
   "source": [
    "loss_train_array = []\n",
    "test_accuracy_array = []\n",
    "train_accuracy_array = []\n",
    "\n",
    "for current_epoch in range(NUM_EPOCHS):\n",
    "    shuffled_index = np.arange(X_train.shape[0])\n",
    "    np.random.shuffle(shuffled_index)\n",
    "\n",
    "    train_dataset = X_train[shuffled_index]\n",
    "    train_labels = Y_train[shuffled_index]\n",
    "\n",
    "    for step in xrange(int(X_train.shape[0] / BATCH_SIZE)):\n",
    "        \n",
    "        offset = step * BATCH_SIZE\n",
    "        batch_data = train_dataset[offset:(offset + BATCH_SIZE)]\n",
    "        batch_labels = train_labels[offset:(offset + BATCH_SIZE)]\n",
    "        \n",
    "        # This dictionary maps the batch data (as a numpy array) to the\n",
    "        # node in the graph is should be fed to.\n",
    "        feed_dict = {x: batch_data, y: batch_labels, pkeep: 0.8}\n",
    "        _, loss_train = sess.run([train_step, loss],\n",
    "                                 feed_dict=feed_dict)\n",
    "\n",
    "    # We calculate the accuracies to plot their values later\n",
    "    loss_train_array.append(loss_train)\n",
    "    \n",
    "    train_accuracy = sess.run(\n",
    "        accuracy, feed_dict={x: X_train, y: Y_train, pkeep: 1.0})\n",
    "    \n",
    "    train_accuracy_array.append(train_accuracy)\n",
    "    \n",
    "    test_accuracy = sess.run(\n",
    "        accuracy, feed_dict={x: X_test, y: Y_test, pkeep: 1.0})\n",
    "    \n",
    "    test_accuracy_array.append(test_accuracy)\n",
    "\n",
    "    print (\n",
    "        'Epoch %04d, '\n",
    "        'loss train %.8f, train accuracy %.8f, test accuracy %.8f'\n",
    "        %\n",
    "        (current_epoch,\n",
    "         loss_train,\n",
    "         train_accuracy,\n",
    "         test_accuracy))"
   ]
  },
  {
   "cell_type": "code",
   "execution_count": 157,
   "metadata": {
    "collapsed": false
   },
   "outputs": [
    {
     "name": "stdout",
     "output_type": "stream",
     "text": [
      "Model saved in file: /tmp/model_conv_2.ckpt\n"
     ]
    }
   ],
   "source": [
    "#Save model\n",
    "save_path = saver.save(sess, \"/tmp/model_conv_2.ckpt\")\n",
    "print(\"Model saved in file: %s\" % save_path)"
   ]
  },
  {
   "cell_type": "code",
   "execution_count": 270,
   "metadata": {
    "collapsed": false
   },
   "outputs": [
    {
     "data": {
      "text/plain": [
       "[<matplotlib.lines.Line2D at 0x7f771d657b10>]"
      ]
     },
     "execution_count": 270,
     "metadata": {},
     "output_type": "execute_result"
    },
    {
     "data": {
      "image/png": "[encoded data removed]",
      "text/plain": [
       "<matplotlib.figure.Figure at 0x7f771d618550>"
      ]
     },
     "metadata": {},
     "output_type": "display_data"
    }
   ],
   "source": [
    "plt.plot(loss_train_array)"
   ]
  },
  {
   "cell_type": "code",
   "execution_count": 271,
   "metadata": {
    "collapsed": false
   },
   "outputs": [
    {
     "data": {
      "text/plain": [
       "[<matplotlib.lines.Line2D at 0x7f7715884050>]"
      ]
     },
     "execution_count": 271,
     "metadata": {},
     "output_type": "execute_result"
    },
    {
     "data": {
      "image/png": "[encoded data removed]",
      "text/plain": [
       "<matplotlib.figure.Figure at 0x7f76e2113110>"
      ]
     },
     "metadata": {},
     "output_type": "display_data"
    }
   ],
   "source": [
    "plt.plot(test_accuracy_array)\n",
    "plt.plot(train_accuracy_array)"
   ]
  },
  {
   "cell_type": "code",
   "execution_count": 275,
   "metadata": {
    "collapsed": false
   },
   "outputs": [
    {
     "ename": "KeyboardInterrupt",
     "evalue": "",
     "output_type": "error",
     "traceback": [
      "\u001b[0;31m---------------------------------------------------------------------------\u001b[0m",
      "\u001b[0;31mKeyboardInterrupt\u001b[0m                         Traceback (most recent call last)",
      "\u001b[0;32m<ipython-input-275-168e3d8d16d8>\u001b[0m in \u001b[0;36m<module>\u001b[0;34m()\u001b[0m\n\u001b[1;32m     26\u001b[0m     \u001b[0mwin\u001b[0m\u001b[0;34m.\u001b[0m\u001b[0madd_overlay\u001b[0m\u001b[0;34m(\u001b[0m\u001b[0mdlib\u001b[0m\u001b[0;34m.\u001b[0m\u001b[0mrectangle\u001b[0m\u001b[0;34m(\u001b[0m\u001b[0mlong\u001b[0m\u001b[0;34m(\u001b[0m\u001b[0;36m260\u001b[0m\u001b[0;34m)\u001b[0m\u001b[0;34m,\u001b[0m \u001b[0mlong\u001b[0m\u001b[0;34m(\u001b[0m\u001b[0;36m160\u001b[0m\u001b[0;34m)\u001b[0m\u001b[0;34m,\u001b[0m \u001b[0mlong\u001b[0m\u001b[0;34m(\u001b[0m\u001b[0;36m420\u001b[0m\u001b[0;34m)\u001b[0m\u001b[0;34m,\u001b[0m \u001b[0mlong\u001b[0m\u001b[0;34m(\u001b[0m\u001b[0;36m320\u001b[0m\u001b[0;34m)\u001b[0m\u001b[0;34m)\u001b[0m\u001b[0;34m)\u001b[0m\u001b[0;34m\u001b[0m\u001b[0m\n\u001b[1;32m     27\u001b[0m \u001b[0;34m\u001b[0m\u001b[0m\n\u001b[0;32m---> 28\u001b[0;31m     \u001b[0mdets\u001b[0m \u001b[0;34m=\u001b[0m \u001b[0mdetector\u001b[0m\u001b[0;34m(\u001b[0m\u001b[0mframe\u001b[0m\u001b[0;34m)\u001b[0m\u001b[0;34m\u001b[0m\u001b[0m\n\u001b[0m\u001b[1;32m     29\u001b[0m \u001b[0;34m\u001b[0m\u001b[0m\n\u001b[1;32m     30\u001b[0m     \u001b[0;32mfor\u001b[0m \u001b[0mk\u001b[0m\u001b[0;34m,\u001b[0m \u001b[0md\u001b[0m \u001b[0;32min\u001b[0m \u001b[0menumerate\u001b[0m\u001b[0;34m(\u001b[0m\u001b[0mdets\u001b[0m\u001b[0;34m)\u001b[0m\u001b[0;34m:\u001b[0m\u001b[0;34m\u001b[0m\u001b[0m\n",
      "\u001b[0;31mKeyboardInterrupt\u001b[0m: "
     ]
    }
   ],
   "source": [
    "video_capture = cv2.VideoCapture(0)\n",
    "win = dlib.image_window()\n",
    "detector = dlib.get_frontal_face_detector()\n",
    "#\n",
    "tag = ':)'\n",
    "\n",
    "while True:\n",
    "    # Capture frame-by-frame\n",
    "    ret, frame = video_capture.read()\n",
    "\n",
    "    win.clear_overlay()\n",
    "    \n",
    "    font = cv2.FONT_HERSHEY_SIMPLEX\n",
    "    cv2.putText(frame,'Hola ' + tag + '!!!',(0,130), font, 1, (200,255,155), 2, cv2.LINE_AA)\n",
    "    \n",
    "    try:\n",
    "        win.set_image(frame)\n",
    "    except:\n",
    "        pass\n",
    "    \n",
    "    win.add_overlay(dlib.rectangle(long(260), long(160), long(420), long(320)))\n",
    "\n",
    "    dets = detector(frame)\n",
    "\n",
    "    for k, d in enumerate(dets):\n",
    "\n",
    "        try:\n",
    "            img = cv2.resize(frame[d.top():d.top() + d.height(), d.left(): d.left() + d.width()], (resize_x, resize_y),\n",
    "                             interpolation=cv2.INTER_AREA)\n",
    "\n",
    "            img = img.reshape(-1).reshape(1, 19200)\n",
    "\n",
    "            img = np.array(img) / 255\n",
    "\n",
    "            feed_dict = {x: img, pkeep: 1.0}\n",
    "\n",
    "            classification = sess.run(y_softmax, feed_dict)\n",
    "\n",
    "            gabriel_level = classification[0][0]\n",
    "            david_level = classification[0][1]\n",
    "\n",
    "            if(gabriel_level > david_level):\n",
    "                tag = 'Gabriel'\n",
    "            else:\n",
    "                tag = 'David'\n",
    "        except:\n",
    "            pass"
   ]
  },
  {
   "cell_type": "code",
   "execution_count": null,
   "metadata": {
    "collapsed": true
   },
   "outputs": [],
   "source": []
  }
 ],
 "metadata": {
  "kernelspec": {
   "display_name": "Python 2",
   "language": "python",
   "name": "python2"
  },
  "language_info": {
   "codemirror_mode": {
    "name": "ipython",
    "version": 2
   },
   "file_extension": ".py",
   "mimetype": "text/x-python",
   "name": "python",
   "nbconvert_exporter": "python",
   "pygments_lexer": "ipython2",
   "version": "2.7.9"
  }
 },
 "nbformat": 4,
 "nbformat_minor": 0
}
